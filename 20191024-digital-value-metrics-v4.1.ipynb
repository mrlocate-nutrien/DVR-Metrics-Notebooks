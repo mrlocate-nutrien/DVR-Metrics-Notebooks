{
 "cells": [
  {
   "cell_type": "markdown",
   "metadata": {},
   "source": [
    "# Digital Value Realization (DVR) Metrics and Analytics\n",
    "\n",
    "## Gold-Standard Calculation Test-Bed\n",
    "\n",
    "### Version 4.x\n",
    "\n",
    "### *Date: 2019-08-12*\n",
    "\n",
    "### Kris Matson\n",
    "\n",
    "Jira Epic ID: [DA-344](https://agrium.atlassian.net/browse/DA-344])\n",
    "\n",
    "---\n",
    "\n",
    "This notebook implements the DVR calculations on a production dataset with basic householding"
   ]
  },
  {
   "cell_type": "markdown",
   "metadata": {},
   "source": [
    "## Digital Value Realization Metrics Definitions\n",
    "\n",
    "Reference: VR_digital_breakout_May_20190710.pdf\n",
    "\n",
    "### New Grower Revenue\n",
    "__Hypothesis__: Is there a positive difference between revenue from digitally engaged new customers vs. non-engaged new customers?\n",
    "__Computations:__\n",
    "- Sum(Revenue from New Customers who are Engaged)\n",
    "- Sum(Revenue from New Customers who are Non-Engaged)\n",
    "  - Revenue calculated YTD for only the current year\n",
    "__Intuition:__\n",
    "- New Grower Revenue is expected to __increase__ throughout the current year as the number of engaged customers increases and the number of new customers increases \n",
    "\n",
    "### Benefit from Digital Customer Retention\n",
    "__Hypothesis__: Is there a positive trend to revenue benefit from digital engagement v. non-engagement?\n",
    "__Computations:__\n",
    "- Count(Engaged Customers) * Avg(Annual Sales Revenue for Engaged Customers) * %(Churn Non-Engaged - Churn Engaged)\n",
    "  - Assume '%' means we want the percent revenue (USD) benefit\n",
    "  - Sales revenue is calculated from the prior year only\n",
    "__Intuition:__\n",
    "- Benefit from Digital Engagement is expected __increase__ over the current year as the number of engaged customers increases and as churn decreases throughout the year\n",
    "  - Benefit will be __positive__ if churn from engaged customers is smaller than churn from non-engaged customers\n",
    "  \n",
    "### Increased Customer Retention\n",
    "__Hypothesis__: Is Nutrien Customer Retention higher for digitally engaged customers v. non-engaged customers?\n",
    "__Computations:__\n",
    "- %(Non-Engaged Customer Retention - Engaged Customer Retention)\n",
    "  - Retention of engaged customers is expected to be __greater than__ churn from non-engaged customers\n",
    "\n",
    "### Increased Share of Wallet\n",
    "__Hypothesis__: Does the overall Nutrien \"buy\" increase as a result of engagement v. non-engagement? \n",
    "__Computations:__\n",
    "- Avg(Annual Revenue for Engaged Customers) - Avg(Annual Revenue for NON-Engaged Customers)\n",
    "  - The denominator for the average revenue calculation is the number of unique, engaged households for the given year \n",
    "__Intuition:__\n",
    "- Share of wallet is expected to be __positive__ with increased portal engagement\n",
    "\n",
    "### Increased Agronomic Services Revenue, Engaged and Non-Engaged\n",
    "__Hypothesis__: Does the Nutrien \"buy\" for Agronomic Services increase as a result of engagement v. non-engagement? \n",
    "__Computations:__\n",
    "- YoY, YTD Comparison of Sum(Application Services Revenue for Engaged Customers)\n",
    "- YoY, YTD Comparison of Sum(Application Services Revenue for NON-Engaged Customers)\n",
    "  - requires shelf-level sales data\n",
    "__Intuition:__\n",
    "- Agronomic services revenue should be higher for the digitally engaged cohort v. the non-engaged, because of increased customer touchpoints to promote agronomic services sales.\n",
    "\n",
    "### Definitions\n",
    "\n",
    "#### Engagement (Digital)\n",
    "- Engaged Customer: A business organization that does (or has done) business with Nutrien, with one or more users of the on-line portal acting on behalf of the business, and those user members of the business have __returned__ to the portal two or more times collectively, aggregated at the business organization level. \n",
    "  - Engagement is expected to __increase__ as digitally adopted customers return to use the portal\n",
    "  - For the current analyses, once a household (aka customer) is engaged it is considered engaged for the prior year and the current year of the DVR analysis. Future versions of the analysis will consider the date of first engagement (the date of adoption == logging in for the first time and linking one or more accounts) \n",
    "  - Examples:\n",
    "    - 1. An organization with a single portal user who has visited a first time to register, and then comes back to the portal two or more times, is classified as an engaged customer.\n",
    "    - 2. An organization with two portal users who have both visited a first time to register, and then one comes back to the portal two or more times, is classified as an engaged customer.\n",
    "    - 3. An organization with three portal users who have all visited the portal one time to register, and then none ever come back to the portal, is classified as a non-engaged customer.\n",
    "\n",
    "#### Retention\n",
    "- Retention: Count(Households with 2018 purchases who ALSO have 2019 purchases) / Count(Households with 2018 purchases)\n",
    "- == Count(Households with prior year purchases who ALSO have current year purchases) / Count(Households with prior year purchases)\n",
    "  - Purchases for current year are YTD based on records to-date in the data set \n",
    "  - Retention is expected to __increase__ throughout the current year as prior year accounts for a household are activated (bought against) in the current year\n",
    "\n",
    "#### Churn\n",
    "- Churn: Count(Households with prior yr purchases but no current yr purchases) / Count(Households with prior year purchases)\n",
    "  - Purchases for current year are YTD based on records to-date in the data set \n",
    "  - Churn is expected to __decrease__ over the current year as prior year accounts get activated in the current year\n",
    "  - Churn of engaged customers is expected to be __less than__ churn from non-engaged customers\n",
    "\n",
    "#### New Customer:\n",
    "- New Customer: (Households with 2019 account purchases but no 2018 account purchases)\n",
    "  - Purchases for current year are YTD based on records to-date in the data set \n",
    "  - The new cusotmer count is expected to __increase__ over the current year as new households are acquired in the current year\n",
    "\n",
    "---"
   ]
  },
  {
   "cell_type": "markdown",
   "metadata": {},
   "source": [
    "### Assumptions, Caveats and Issues\n",
    "\n",
    "- The label of engagement for an organization is attributed to all transaction records for that organization. In other words, transactions for organization are considered engaged for all-time if the organization is engaged at any time. Households engaged (having 2 return visits) since April 2018 have the same engagement attribution as households with 2 return visits as of yesterday. Future versions of the DVR analysis may take into account timing of first portal use as a feature explaining variation of transactional or in-portal behaviors. \n",
    "\n",
    "\n",
    "- For the current analysis we are just looking at Net Sales, not Gross Sales nor margin.\n",
    "\n",
    "\n",
    "- User ID tracking in the Digital Portal was turned on in Google Analytics and Google Tag Manager August 19, 2018 and became fully functional August 20 2018. This means that usage of the portal for early users, and by association the organization they are part of, will not be tracked in GA until August 20. A partial workaround is to use the date of portal registration in Customer MDM, this gives the date of first visit.  \n",
    "\n",
    "\n",
    "- The current implementation includes customers that both did and did not purchase products from CXH. A future implementation is required to isolate the CXH purchaser cohort. \n",
    "\n",
    "\n",
    "- All Methods are currently explicitly tied to 2018 and 2019 data only\n",
    "\n",
    "\n",
    "---"
   ]
  },
  {
   "cell_type": "markdown",
   "metadata": {},
   "source": [
    "### TODO:\n",
    "date: 08/28/2019\n",
    "- add CXH only cohort\n",
    "- verify implemention validity of YTD and financial period calculations\n"
   ]
  },
  {
   "cell_type": "code",
   "execution_count": 2,
   "metadata": {
    "scrolled": true
   },
   "outputs": [],
   "source": [
    "import os\n",
    "import pandas as pd\n",
    "import numpy as np\n",
    "import pickle\n",
    "\n",
    "# read pickle file and output\n",
    "# there is no conversion of the output\n",
    "def un_pickle(pkl_fname):\n",
    "    with open(pkl_fname, 'rb') as handle:\n",
    "        result = pickle.load(handle)\n",
    "    return result"
   ]
  },
  {
   "cell_type": "code",
   "execution_count": 3,
   "metadata": {
    "scrolled": true
   },
   "outputs": [],
   "source": [
    "# Retention, Churn, and New Customer definition getters\n",
    "#\n",
    "# For all methods:\n",
    "# inputs: pd dataframe by Household (HH) containing:\n",
    "#   HH ID: cust_ID\n",
    "#   Digital Engagement of HH: cn_engaged\n",
    "#   Sales variable: net_sales\n",
    "#   Year and month for each transaction: fiscal_period (yyyyMM)\n",
    "#   Calendar year for each total: fiscal_year (yyyy)\n",
    "#\n",
    "# All Methods are currently explicitly parameterized to 2018 and 2019 data and not tested for data outside this range\n",
    "\n",
    "## Churn\n",
    "# Count(distinct households with sales in prior year and no sales in current year) / \n",
    "#               Count(distinct households with sales in prior year)\n",
    "# input: pd df of sales as described above\n",
    "#        curr_year: int parameter for the current year for the calc\n",
    "# output: float, proportion of churned customers \n",
    "# assumes: current year and prior year are valid data in fiscal_year column\n",
    "#          net_sales and hh_id are valid columns in the df\n",
    "def get_org_churn(df, for_year=2019):\n",
    "    prev_year = for_year - 1\n",
    "    # use set type for fastest operation\n",
    "    hh_id_prevyr_sales = set(df.query('fiscal_year == @prev_year and net_sales != 0')['hh_id'])\n",
    "    hh_id_curryr_sales = set(df.query('fiscal_year == @for_year and net_sales != 0')['hh_id']) \n",
    "    # return the number of ids last year that dont match this year / number of ids last year\n",
    "    # TODO: check for div by 0\n",
    "    return len(hh_id_prevyr_sales - hh_id_curryr_sales) / len(hh_id_prevyr_sales)\n"
   ]
  },
  {
   "cell_type": "code",
   "execution_count": 4,
   "metadata": {},
   "outputs": [],
   "source": [
    "## Organization Retention\n",
    "# Retention: Count(Households with previous year purchases who ALSO have purchases in the current year) / \n",
    "#              Count(Households with previous year purchases)\n",
    "# input: pandas df: dataset of sales as described above\n",
    "#        curr_year: int parameter for the current year for the calc\n",
    "# output: float, proportion of retained customers\n",
    "# assumes: current year and prior year are valid data in fiscal_year column\n",
    "#          net_sales and hh_id are valid columns in the df\n",
    "#\n",
    "# TODO: add test for existence of year in the df\n",
    "# TODO: add tests for existence of columns in the df\n",
    "#\n",
    "def get_org_retention(hh_df, for_year=2019, engaged=True, verbose=False):\n",
    "    prev_year = for_year - 1\n",
    "    # use set type for fastest operation\n",
    "    hh_id_prevyr_sales = set(hh_df.query('hh_engaged == @engaged & fiscal_year == @prev_year and net_sales != 0')['hh_id'].unique())\n",
    "    #print('hh_id_prevyr_sales {}'.format(hh_id_prevyr_sales))\n",
    "\n",
    "    hh_id_curryr_sales = set(hh_df.query('hh_engaged == @engaged & fiscal_year == @for_year and net_sales != 0')['hh_id'].unique())\n",
    "    #print('hh_id_curryr_sales {}'.format(hh_id_curryr_sales))\n",
    "\n",
    "    numerator = len(hh_id_prevyr_sales.intersection(hh_id_curryr_sales))\n",
    "    if verbose:\n",
    "        print('numerator {}'.format(numerator))\n",
    "\n",
    "    denominator = len(hh_id_prevyr_sales)\n",
    "    if verbose:\n",
    "        print('denominator {}'.format(denominator))\n",
    "\n",
    "    # return the num ids that match from both years / num ids last year\n",
    "    # TODO: check for div by 0, however it should never be zero\n",
    "    org_retention =  numerator / denominator\n",
    "    \n",
    "    return org_retention"
   ]
  },
  {
   "cell_type": "code",
   "execution_count": 5,
   "metadata": {},
   "outputs": [],
   "source": [
    "## Get New Customers:\n",
    "#   pd Dataframe where (Households had current year account purchases) AND (Households with no prior YTD account purchases)\n",
    "# e.g., records where the household has sales in 2019 but not in 2018 \n",
    "# input: pd df of sales as described above\n",
    "# output: pd dataframe of new customers\n",
    "# assumes: current year and prior year are valid data in fiscal_year column\n",
    "#          net_sales and hh_id are valid columns in the df\n",
    "def get_new_customers(df, curr_year=2019):\n",
    "    prev_year = curr_year - 1\n",
    "    # ids with 2018 sales\n",
    "    hh_id_prevyr_sales = list(df.query('fiscal_year == @prev_year and net_sales != 0')['hh_id'].unique())\n",
    "    # this df has 2019 sales\n",
    "    new_customer_df = df.query('fiscal_year == @curr_year and net_sales != 0')\n",
    "    # return the df with no cust_IDs from 2018\n",
    "    return new_customer_df[~new_customer_df['hh_id'].isin(hh_id_prevyr_sales)]\n"
   ]
  },
  {
   "cell_type": "code",
   "execution_count": 6,
   "metadata": {},
   "outputs": [],
   "source": [
    "## Get Count Engaged Customers\n",
    "# Calculate count distinct of engaged customers with transactions for the given year\n",
    "# NOTE: Does NOT take into account dates of transactions since portal began nor the date the org first engaged\n",
    "# input: pd df of sales: as described above\n",
    "# output: int: length of the list of unique engaged customers       \n",
    "#        curr_year: int parameter for the current year for the calc\n",
    "def get_count_engaged_customers(df, for_year=2019):\n",
    "    return len(list(df.query('fiscal_year == @for_year and net_sales != 0 and hh_engaged == True')['hh_id'].unique()))"
   ]
  },
  {
   "cell_type": "code",
   "execution_count": 7,
   "metadata": {},
   "outputs": [],
   "source": [
    "## Get Count Non-Engaged Customers\n",
    "# Calculate count distinct of NON-engaged customers with transactions for the given year\n",
    "# NOTE: Does NOT take into account dates of transactions since portal began nor the date the org first engaged\n",
    "# input: pd df of sales: as described above\n",
    "# output: int: length of the list of unique non-engaged customers       \n",
    "#        curr_year: int parameter for the current year for the calc\n",
    "def get_count_non_engaged_customers(df, for_year=2019):\n",
    "    return len(list(df.query('fiscal_year == @for_year and net_sales != 0 and hh_engaged == False')['hh_id'].unique()))"
   ]
  },
  {
   "cell_type": "code",
   "execution_count": 8,
   "metadata": {},
   "outputs": [],
   "source": [
    "## Average Annual Revenue for Engaged Customers\n",
    "# Average annual revenue for engaged customers == (annual revenue for engaged customers) / (count unique engaged customers)\n",
    "# input: pd df of sales: as described above\n",
    "# output: float: revenue for engaged customers since portal began\n",
    "def get_avg_revenue_engaged(df, for_year=2019):\n",
    "    denom = get_count_engaged_customers(df, for_year)\n",
    "    if denom == 0:\n",
    "        return 0\n",
    "    return df.query('fiscal_year == @for_year and hh_engaged == True')['net_sales'].sum() / denom"
   ]
  },
  {
   "cell_type": "code",
   "execution_count": 9,
   "metadata": {},
   "outputs": [],
   "source": [
    "## Average Annual Revenue for Non-Engaged Customers\n",
    "# Average annual revenue for engaged customers == (annual revenue for non-engaged hh) / (count unique non-engaged hh)\n",
    "# input: pd df of sales: as described above\n",
    "# output: float: revenue for engaged customers since portal began\n",
    "def get_avg_revenue_non_engaged(df, for_year=2019):\n",
    "    denom = get_count_non_engaged_customers(df, for_year)\n",
    "    if denom == 0:\n",
    "        return 0\n",
    "    return df.query('fiscal_year == @for_year and hh_engaged == False')['net_sales'].sum() / denom\n",
    "\n",
    "## Total Annual Revenue for Engaged Customers for the given year\n",
    "def get_revenue_engaged(df, for_year=2019):\n",
    "    return df.query('fiscal_year == @for_year and hh_engaged == True')['net_sales'].sum()\n"
   ]
  },
  {
   "cell_type": "code",
   "execution_count": 9,
   "metadata": {
    "scrolled": false
   },
   "outputs": [
    {
     "data": {
      "text/html": [
       "<div>\n",
       "<style scoped>\n",
       "    .dataframe tbody tr th:only-of-type {\n",
       "        vertical-align: middle;\n",
       "    }\n",
       "\n",
       "    .dataframe tbody tr th {\n",
       "        vertical-align: top;\n",
       "    }\n",
       "\n",
       "    .dataframe thead th {\n",
       "        text-align: right;\n",
       "    }\n",
       "</style>\n",
       "<table border=\"1\" class=\"dataframe\">\n",
       "  <thead>\n",
       "    <tr style=\"text-align: right;\">\n",
       "      <th></th>\n",
       "      <th>hh_id</th>\n",
       "      <th>hh_engaged</th>\n",
       "      <th>net_sales</th>\n",
       "      <th>gl_shelf</th>\n",
       "      <th>fiscal_period</th>\n",
       "      <th>fiscal_year</th>\n",
       "    </tr>\n",
       "  </thead>\n",
       "  <tbody>\n",
       "    <tr>\n",
       "      <td>0</td>\n",
       "      <td>A</td>\n",
       "      <td>False</td>\n",
       "      <td>5</td>\n",
       "      <td>APPL</td>\n",
       "      <td>201712</td>\n",
       "      <td>2017</td>\n",
       "    </tr>\n",
       "    <tr>\n",
       "      <td>1</td>\n",
       "      <td>B</td>\n",
       "      <td>True</td>\n",
       "      <td>10</td>\n",
       "      <td>CHEM</td>\n",
       "      <td>201804</td>\n",
       "      <td>2018</td>\n",
       "    </tr>\n",
       "    <tr>\n",
       "      <td>2</td>\n",
       "      <td>B</td>\n",
       "      <td>True</td>\n",
       "      <td>2</td>\n",
       "      <td>APPL</td>\n",
       "      <td>201805</td>\n",
       "      <td>2018</td>\n",
       "    </tr>\n",
       "    <tr>\n",
       "      <td>3</td>\n",
       "      <td>C</td>\n",
       "      <td>True</td>\n",
       "      <td>5</td>\n",
       "      <td>APPL</td>\n",
       "      <td>201805</td>\n",
       "      <td>2018</td>\n",
       "    </tr>\n",
       "    <tr>\n",
       "      <td>4</td>\n",
       "      <td>D</td>\n",
       "      <td>False</td>\n",
       "      <td>25</td>\n",
       "      <td>APPL</td>\n",
       "      <td>201810</td>\n",
       "      <td>2018</td>\n",
       "    </tr>\n",
       "    <tr>\n",
       "      <td>5</td>\n",
       "      <td>E</td>\n",
       "      <td>True</td>\n",
       "      <td>1</td>\n",
       "      <td>CHEM</td>\n",
       "      <td>201812</td>\n",
       "      <td>2018</td>\n",
       "    </tr>\n",
       "    <tr>\n",
       "      <td>6</td>\n",
       "      <td>B</td>\n",
       "      <td>True</td>\n",
       "      <td>5</td>\n",
       "      <td>APPL</td>\n",
       "      <td>201903</td>\n",
       "      <td>2019</td>\n",
       "    </tr>\n",
       "    <tr>\n",
       "      <td>7</td>\n",
       "      <td>C</td>\n",
       "      <td>True</td>\n",
       "      <td>2</td>\n",
       "      <td>CHEM</td>\n",
       "      <td>201904</td>\n",
       "      <td>2019</td>\n",
       "    </tr>\n",
       "    <tr>\n",
       "      <td>8</td>\n",
       "      <td>D</td>\n",
       "      <td>False</td>\n",
       "      <td>0</td>\n",
       "      <td>APPL</td>\n",
       "      <td>201905</td>\n",
       "      <td>2019</td>\n",
       "    </tr>\n",
       "    <tr>\n",
       "      <td>9</td>\n",
       "      <td>F</td>\n",
       "      <td>True</td>\n",
       "      <td>5</td>\n",
       "      <td>APPL</td>\n",
       "      <td>201904</td>\n",
       "      <td>2019</td>\n",
       "    </tr>\n",
       "  </tbody>\n",
       "</table>\n",
       "</div>"
      ],
      "text/plain": [
       "  hh_id  hh_engaged  net_sales gl_shelf  fiscal_period  fiscal_year\n",
       "0     A       False          5     APPL         201712         2017\n",
       "1     B        True         10     CHEM         201804         2018\n",
       "2     B        True          2     APPL         201805         2018\n",
       "3     C        True          5     APPL         201805         2018\n",
       "4     D       False         25     APPL         201810         2018\n",
       "5     E        True          1     CHEM         201812         2018\n",
       "6     B        True          5     APPL         201903         2019\n",
       "7     C        True          2     CHEM         201904         2019\n",
       "8     D       False          0     APPL         201905         2019\n",
       "9     F        True          5     APPL         201904         2019"
      ]
     },
     "execution_count": 9,
     "metadata": {},
     "output_type": "execute_result"
    }
   ],
   "source": [
    "# test data\n",
    "# todo: add NaNs to see where fails\n",
    "test_data = {'hh_id': ['A', 'B', 'B', 'C', 'D', 'E', 'B', 'C', 'D', 'F'], \n",
    "        'hh_engaged': [False, True, True, True, False, True, True, True, False, True], \n",
    "        'net_sales': [5, 10, 2, 5, 25, 1, 5, 2, 0, 5],\n",
    "        'gl_shelf':  ['APPL','CHEM','APPL','APPL','APPL','CHEM','APPL','CHEM','APPL','APPL'],\n",
    "        'fiscal_period': [201712, 201804, 201805, 201805, 201810, 201812, 201903, 201904, 201905, 201904],\n",
    "        'fiscal_year':[2017, 2018, 2018, 2018, 2018, 2018, 2019, 2019, 2019, 2019]}\n",
    "test_df = pd.DataFrame(test_data)\n",
    "test_df"
   ]
  },
  {
   "cell_type": "code",
   "execution_count": 10,
   "metadata": {},
   "outputs": [
    {
     "name": "stdout",
     "output_type": "stream",
     "text": [
      "{'C', 'D', 'B', 'E'}\n",
      "{'C', 'B', 'F'}\n",
      "2\n",
      "4\n"
     ]
    }
   ],
   "source": [
    "hh_id_prevyr_sales = set(test_df.query('fiscal_year == 2018 and net_sales != 0')['hh_id'])\n",
    "hh_id_curryr_sales = set(test_df.query('fiscal_year == 2019 and net_sales != 0')['hh_id']) \n",
    "print(hh_id_prevyr_sales)\n",
    "print(hh_id_curryr_sales)\n",
    "print(len(hh_id_prevyr_sales - hh_id_curryr_sales))\n",
    "print(len(hh_id_prevyr_sales))"
   ]
  },
  {
   "cell_type": "code",
   "execution_count": 11,
   "metadata": {},
   "outputs": [
    {
     "name": "stdout",
     "output_type": "stream",
     "text": [
      "test org_retention\n",
      "numerator 2\n",
      "denominator 3\n",
      "0.6666666666666666\n",
      "numerator 0\n",
      "denominator 1\n",
      "0.0\n",
      "test org_churn\n",
      "0.5\n",
      "test get_new_customers\n",
      "  hh_id  hh_engaged  net_sales gl_shelf  fiscal_period  fiscal_year\n",
      "9     F        True          5     APPL         201904         2019\n",
      "test get_count_engaged_customers\n",
      "3\n",
      "3\n",
      "test get_count_non_engaged_customers\n",
      "1\n",
      "0\n",
      "test get_avg_revenue_engaged\n",
      "6.0\n",
      "test get_avg_revenue_non_engaged\n",
      "25.0\n"
     ]
    }
   ],
   "source": [
    "# testing with test_df\n",
    "# \n",
    "# Count(households with 2018 sales who ALSO have 2019 sales) / Count(households with 2018 sales)\n",
    "# 2018 sales >> [B,C,D,E]  2019 sales [B,C,D,F]\n",
    "# 3/4 overall\n",
    "# \n",
    "# 2018 engaged sales >> [B,C,E]  2019 engaged sales [B,C]\n",
    "# 2/3 overall\n",
    "print(\"test org_retention\")\n",
    "org_retention = get_org_retention(test_df, engaged=True, verbose=True)\n",
    "print(org_retention)\n",
    "# retention should be \n",
    "assert(org_retention == 2./3.)\n",
    "\n",
    "org_retention = get_org_retention(test_df, engaged=False, verbose=True)\n",
    "print(org_retention)\n",
    "# retention should be \n",
    "assert(org_retention == 0./1.)\n",
    "\n",
    "# Churn\n",
    "# Count(households with 2018 sales who LEFT in 2019) / Count(households with 2018 sales)\n",
    "print(\"test org_churn\")\n",
    "org_churn = get_org_churn(test_df)\n",
    "print(org_churn)\n",
    "assert(org_churn == 2./4.)\n",
    "\n",
    "# new customer\n",
    "print(\"test get_new_customers\")\n",
    "org_new_customer_df = get_new_customers(test_df)\n",
    "print(org_new_customer_df)\n",
    "assert (1 == len(list([org_new_customer_df['net_sales'] != 0.])))\n",
    "\n",
    "# count engaged or non engaged given a year\n",
    "print(\"test get_count_engaged_customers\")\n",
    "cnt_engaged_18 = get_count_engaged_customers(test_df, 2018)\n",
    "print(cnt_engaged_18)\n",
    "assert(cnt_engaged_18 == 3)\n",
    "cnt_engaged_19 = get_count_engaged_customers(test_df, 2019)\n",
    "print(cnt_engaged_19)\n",
    "assert(cnt_engaged_19 == 3)\n",
    "\n",
    "# count non engaged given a year\n",
    "print(\"test get_count_non_engaged_customers\")\n",
    "cnt_nonengaged_18 = get_count_non_engaged_customers(test_df, 2018)\n",
    "print(cnt_nonengaged_18)\n",
    "assert(cnt_nonengaged_18 == 1)\n",
    "cnt_nonengaged_19 = get_count_non_engaged_customers(test_df, 2019)\n",
    "print(cnt_nonengaged_19)\n",
    "assert(cnt_nonengaged_19 == 0)\n",
    "\n",
    "print(\"test get_avg_revenue_engaged\")\n",
    "avg_rev_eng = get_avg_revenue_engaged(test_df, 2018)\n",
    "print(avg_rev_eng)\n",
    "assert(avg_rev_eng == ((10+2+5+1)/3))\n",
    "\n",
    "print(\"test get_avg_revenue_non_engaged\")\n",
    "avg_rev_noneng = get_avg_revenue_non_engaged(test_df, 2018)\n",
    "print(avg_rev_noneng)\n",
    "assert(avg_rev_noneng == ((25)/1))\n",
    "\n",
    "# average rev for year will be diff than avg rev for combined years bec of retention"
   ]
  },
  {
   "cell_type": "code",
   "execution_count": 12,
   "metadata": {
    "scrolled": true
   },
   "outputs": [],
   "source": [
    "### New Grower Revenue\n",
    "# __Hypothesis__: Is there a positive difference between revenue from engaged new customers vs. non-engaged new customers\n",
    "# - Sum(Revenue from New Customers who are Engaged)\n",
    "#   - Revenue calculated YTD for only the current year\n",
    "#\n",
    "# New Customers: (2019 HH purchases == True) AND (2018 HH purchases == False)\n",
    "# \n",
    "# Inputs: \n",
    "#  Dataset of sales totals for all engaged households and non-engaged households for 2018 and 2019\n",
    "#    cust_ID\tcn_engaged\tnet_sales\tfiscal_period\tfiscal_year\n",
    "# \n",
    "# Outputs:\n",
    "#  \n",
    "# \n",
    "# Method:\n",
    "#  Left Join sales by month by account on account number to get boolean indicator for HH digital engagement,\n",
    "#    HH id and name\n",
    "\n",
    "def new_grower_revenue(sales_df, engaged=True, for_year=2019):\n",
    "    df = get_new_customers(sales_df, for_year)\n",
    "    new_grower_sales = df.query('hh_engaged == @engaged')['net_sales'].sum()\n",
    "    return new_grower_sales"
   ]
  },
  {
   "cell_type": "code",
   "execution_count": 13,
   "metadata": {},
   "outputs": [
    {
     "name": "stdout",
     "output_type": "stream",
     "text": [
      "testing new_grower_revenue with test_df\n",
      "5\n",
      "0\n"
     ]
    }
   ],
   "source": [
    "print('testing new_grower_revenue with test_df')\n",
    "\n",
    "# engaged 2019\n",
    "print(new_grower_revenue(test_df))\n",
    "assert(new_grower_revenue(test_df) == 5.)\n",
    "\n",
    "# non-engaged 2019\n",
    "print(new_grower_revenue(test_df, False))\n",
    "assert(new_grower_revenue(test_df, False) == 0.)\n"
   ]
  },
  {
   "cell_type": "code",
   "execution_count": 14,
   "metadata": {},
   "outputs": [],
   "source": [
    "#### [Revenue] Benefit from Digital Customer Retention\n",
    "### Benefit from Digital Customer Retention\n",
    "# __Hypothesis__: Is there a positive trend to revenue benefit from digital engagement\n",
    "# - Count(Engaged Customers) * Avg(Annual Sales Revenue for Engaged Customers) * %(Churn Non-Engaged - Churn Engaged)\n",
    "#   - assume '%' means we want the percent benefit\n",
    "#   - Sales revenue is calculated for the prior year\n",
    "#\n",
    "#### Churn\n",
    "# org_churn_percent: Count(households with 2018 sales and no sales in 2019) / Count(households with 2018 sales) \n",
    "#\n",
    "# Input: \n",
    "#  Dataset of sales totals for all engaged households and non-engaged households for 2018 and 2019\n",
    "#    cust_ID, cn_engaged, net_sales, fiscal_period, fiscal_year\n",
    "#\n",
    "# Outputs:\n",
    "#  1) Benefit: float, currency\n",
    "# \n",
    "# Method:\n",
    "#  count_engaged = count(engaged customers for ytd)\n",
    "#  avg_engaged_rev = avg(engaged customer sales revenue for ytd)\n",
    "#  churn_engaged = count(engaged households with sales != 0 in 2018 and sales == 0 in 2019) / \n",
    "#                                      count(engaged households with sales != 0 in 2018)\n",
    "#  churn_non_engaged = count(non-engaged households with sales != 0 in 2018 and sales == 0 in 2019) / \n",
    "#                                      count(non-engaged households with sales != 0 in 2018)\n",
    "#\n",
    "#  Benefit = count_engaged * avg_engaged_rev * (churn_engaged - churn_non_engaged)\n",
    "#\n",
    "def benefit_digital_customer_retention(hh_sales_df, for_year=2019):\n",
    "    # get_count_engaged_customers(df, for_year=2019)\n",
    "    count_engaged_customers = get_count_engaged_customers(hh_sales_df, for_year)\n",
    "    # get_avg_revenue_engaged for the prior year\n",
    "    avg_ann_rev_eng = get_avg_revenue_engaged(hh_sales_df, for_year-1)\n",
    "    # get_org_churn(df, curr_year=2019)\n",
    "    org_churn_eng = get_org_churn(hh_sales_df.query('hh_engaged == True'), for_year)\n",
    "    org_churn_not_eng = get_org_churn(hh_sales_df.query('hh_engaged == False'), for_year)\n",
    "    \n",
    "    return count_engaged_customers * avg_ann_rev_eng * (org_churn_not_eng - org_churn_eng)\n"
   ]
  },
  {
   "cell_type": "code",
   "execution_count": 15,
   "metadata": {},
   "outputs": [
    {
     "name": "stdout",
     "output_type": "stream",
     "text": [
      "$12.00\n",
      "12.000000000000002\n"
     ]
    }
   ],
   "source": [
    "print('${:,.2f}'.format(benefit_digital_customer_retention(test_df, 2019)))\n",
    "\n",
    "# for the test data\n",
    "# Count(Engaged Customers) for the current year\n",
    "cnt_eng_19 = 3\n",
    "# Avg(Annual Sales Revenue for Engaged Customers) for the prior year - 2018\n",
    "avg_ann_rev_eng = (10+2+5+1)/3\n",
    "\n",
    "# Churn Non-Engaged \n",
    "# Count(non-engaged Households with 2018 purchases but no 2019 purchases) / Count(non-engaged Households with 2018 purchases)\n",
    "churn_non = 1/1\n",
    "# Churn Engaged\n",
    "churn_eng = 1/3\n",
    "\n",
    "# Count(Engaged Customers) * Avg(Annual Sales Revenue for Engaged Customers) * %(Churn Non-Engaged - Churn Engaged)\n",
    "res = cnt_eng_19 * avg_ann_rev_eng * (churn_non - churn_eng)\n",
    "print(res)\n",
    "\n",
    "assert(res == benefit_digital_customer_retention(test_df))"
   ]
  },
  {
   "cell_type": "code",
   "execution_count": 16,
   "metadata": {},
   "outputs": [
    {
     "name": "stdout",
     "output_type": "stream",
     "text": [
      "count_engaged_customers: 3\n",
      "avg_ann_rev_eng: $6.00\n",
      "ann_rev_eng: $18.00\n",
      "org_churn_eng: 0.33\n",
      "org_churn_not_eng: 1.00\n",
      "$12.00\n",
      "$12.00\n"
     ]
    }
   ],
   "source": [
    "# calc benefit iteratively \n",
    "count_engaged_customers = get_count_engaged_customers(test_df)\n",
    "avg_ann_rev_eng = get_avg_revenue_engaged(test_df, 2018)\n",
    "ann_rev_eng = get_revenue_engaged(test_df, 2018)\n",
    "org_churn_eng = get_org_churn(test_df.query('hh_engaged == True'))\n",
    "org_churn_not_eng = get_org_churn(test_df.query('hh_engaged == False'))\n",
    "\n",
    "print('count_engaged_customers: {}'.format(count_engaged_customers))\n",
    "print('avg_ann_rev_eng: ${:,.2f}'.format(avg_ann_rev_eng))\n",
    "print('ann_rev_eng: ${:,.2f}'.format(ann_rev_eng))\n",
    "print('org_churn_eng: {:.2f}'.format(org_churn_eng))\n",
    "print('org_churn_not_eng: {:.2f}'.format(org_churn_not_eng))\n",
    "\n",
    "benefit_from_digital_retention = count_engaged_customers * avg_ann_rev_eng *(org_churn_not_eng - org_churn_eng)\n",
    "print('${:,.2f}'.format(benefit_from_digital_retention))\n",
    "# same as ann_rev since count_engaged_customers cancel out:\n",
    "print('${:,.2f}'.format(ann_rev_eng * (org_churn_not_eng - org_churn_eng)))"
   ]
  },
  {
   "cell_type": "code",
   "execution_count": 17,
   "metadata": {},
   "outputs": [],
   "source": [
    "#### Increased Customer Retention\n",
    "# (Engaged Customer Retention - NON-Engaged Customer Retention)\n",
    "#\n",
    "# Input: \n",
    "#  hh_sales_df: Dataset of sales totals for all engaged households and non-engaged households for 2018 and 2019\n",
    "#    columns: cust_ID, cn_engaged, net_sales, fiscal_period, fiscal_year\n",
    "#  \n",
    "# Outputs:\n",
    "#  inc_customer_retention: float, proportion\n",
    "# \n",
    "# Method:\n",
    "#  retention_engaged = count(engaged distinct households with sales != 0 in 2018 and sales != 0 in 2019) / \n",
    "#                                      count(engaged distinct households with sales != 0 in 2018)\n",
    "# \n",
    "#  retention_non_engaged = count(non-engaged distinct households with sales != 0 in 2018 and sales != 0 in 2019) / \n",
    "#                                      count(non-engaged disctinct households with sales != 0 in 2018)\n",
    "# \n",
    "#  inc_customer_retention = retention_engaged - retention_non_engaged\n",
    "\n",
    "def inc_customer_retention(hh_df, for_year=2019, verbose=False):\n",
    "    retention_engaged = get_org_retention(hh_df, for_year, engaged=True, verbose=verbose)\n",
    "    if verbose:\n",
    "        print('retention_engaged {}'.format(retention_engaged))\n",
    "\n",
    "    retention_non_engaged = get_org_retention(hh_df, for_year, engaged=False, verbose=verbose)\n",
    "    if verbose:\n",
    "        print('retention_non_engaged {}'.format(retention_non_engaged))\n",
    "\n",
    "    if verbose:\n",
    "        print(retention_engaged - retention_non_engaged)\n",
    "        \n",
    "    return (retention_engaged - retention_non_engaged)"
   ]
  },
  {
   "cell_type": "code",
   "execution_count": 18,
   "metadata": {},
   "outputs": [
    {
     "name": "stdout",
     "output_type": "stream",
     "text": [
      "0.6666666666666666\n",
      "0.6666666666666666\n"
     ]
    }
   ],
   "source": [
    "print(inc_customer_retention(test_df))\n",
    "print((2/3. - 0/1.))\n",
    "assert(inc_customer_retention(test_df) == (2/3. - 0/1.))"
   ]
  },
  {
   "cell_type": "code",
   "execution_count": 19,
   "metadata": {},
   "outputs": [],
   "source": [
    "#### Increased Share of Wallet\n",
    "# Avg(Annual Revenue for Engaged Customers) - Avg(Annual Revenue for NON-Engaged Customers)\n",
    "# \n",
    "# Input: \n",
    "#  hh_sales_df: Dataset of sales totals for all engaged households and non-engaged households for 2018 and 2019\n",
    "#    columns: cust_ID, cn_engaged, net_sales, fiscal_period, fiscal_year\n",
    "#\n",
    "# Outputs:\n",
    "#   1) inc_share_of_wallet: float (currency)\n",
    "#\n",
    "# Method:\n",
    "#  avg_engaged_rev = avg(engaged customer sales revenue for selected year)\n",
    "#  avg_non_engaged_rev = avg(non-engaged customer sales revenue for selected year)\n",
    "#\n",
    "def inc_share_of_wallet(hh_sales_df, for_year=2019, verbose=False):\n",
    "    avg_revenue_engaged = get_avg_revenue_engaged(hh_sales_df, for_year)\n",
    "    if verbose:\n",
    "        print(avg_revenue_engaged)\n",
    "        \n",
    "    avg_revenue_non_engaged = get_avg_revenue_non_engaged(hh_sales_df, for_year)\n",
    "    if verbose:\n",
    "        print(avg_revenue_non_engaged)\n",
    "        \n",
    "    return (avg_revenue_engaged - avg_revenue_non_engaged)"
   ]
  },
  {
   "cell_type": "code",
   "execution_count": 20,
   "metadata": {
    "scrolled": true
   },
   "outputs": [
    {
     "name": "stdout",
     "output_type": "stream",
     "text": [
      "6.0\n",
      "25.0\n",
      "inc_share_of_wallet from engagement 2018: $-19.00\n",
      "4.0\n",
      "0\n",
      "inc_share_of_wallet from engagement 2019: $4.00\n"
     ]
    }
   ],
   "source": [
    "print('inc_share_of_wallet from engagement 2018: ${:,.2f}'.format(inc_share_of_wallet(test_df, 2018, True)))\n",
    "print('inc_share_of_wallet from engagement 2019: ${:,.2f}'.format(inc_share_of_wallet(test_df, 2019, True)))"
   ]
  },
  {
   "cell_type": "code",
   "execution_count": 21,
   "metadata": {},
   "outputs": [],
   "source": [
    "# Increased Agronomic Services Revenue, Engaged and Non-Engaged\n",
    "# \"/users/kmatson/documents/nutrien-digital/sales_acct_hh_appl_engaged_df.pickle\"\n",
    "\n",
    "# Hypothesis: Does the Nutrien \"buy\" for Agronomic Services increase as a result of engagement?\n",
    "\n",
    "# YoY, YTD Comparison of Sum(Application Services Revenue for Engaged Customers)\n",
    "# YoY, YTD Comparison of Sum(Application Services Revenue for NON-Engaged Customers)\n",
    "# requires shelf-level sales data\n",
    "\n",
    "def agronomic_services_revenue(hh_sales_df, for_year=2019, engaged=True):\n",
    "    # strictly request gl_shelf for APPL\n",
    "    result = hh_sales_df.query('fiscal_year == @for_year and hh_engaged == @engaged and gl_shelf == \"APPL\" and net_sales != 0')['net_sales'].sum()\n",
    "    \n",
    "    return result"
   ]
  },
  {
   "cell_type": "code",
   "execution_count": 22,
   "metadata": {},
   "outputs": [
    {
     "name": "stdout",
     "output_type": "stream",
     "text": [
      "2018 engaged agronomic_services_revenue:     $7.00\n",
      "2018 NON-engaged agronomic_services_revenue: $25.00\n",
      "2019 engaged agronomic_services_revenue:     $10.00\n",
      "2019 NON-engaged agronomic_services_revenue: $0.00\n"
     ]
    }
   ],
   "source": [
    "engaged_2018_agronomic_services_revenue = (agronomic_services_revenue(test_df, 2018, True))\n",
    "NON_engaged_2018_agronomic_services_revenue = (agronomic_services_revenue(test_df, 2018, False))\n",
    "engaged_2019_agronomic_services_revenue = (agronomic_services_revenue(test_df, 2019, True))\n",
    "NON_engaged_2019_agronomic_services_revenue = (agronomic_services_revenue(test_df, 2019, False))\n",
    "\n",
    "print('2018 engaged agronomic_services_revenue:     ${:,.2f}'.format(engaged_2018_agronomic_services_revenue))\n",
    "print('2018 NON-engaged agronomic_services_revenue: ${:,.2f}'.format(NON_engaged_2018_agronomic_services_revenue))\n",
    "print('2019 engaged agronomic_services_revenue:     ${:,.2f}'.format(engaged_2019_agronomic_services_revenue))\n",
    "print('2019 NON-engaged agronomic_services_revenue: ${:,.2f}'.format(NON_engaged_2019_agronomic_services_revenue))\n",
    "\n",
    "assert(engaged_2018_agronomic_services_revenue == 2+5.)\n",
    "assert(NON_engaged_2018_agronomic_services_revenue == 25.)\n",
    "assert(engaged_2019_agronomic_services_revenue == 5+5.)\n",
    "assert(NON_engaged_2019_agronomic_services_revenue == 0.)\n"
   ]
  },
  {
   "cell_type": "code",
   "execution_count": 23,
   "metadata": {},
   "outputs": [],
   "source": [
    "# if output needed\n",
    "# test_df.to_csv(\"/users/kmatson/documents/nutrien-digital/dvr_simple_test.csv\")"
   ]
  },
  {
   "cell_type": "markdown",
   "metadata": {},
   "source": [
    "## Results\n",
    "\n",
    "The production data gives the following results:"
   ]
  },
  {
   "cell_type": "code",
   "execution_count": 24,
   "metadata": {
    "scrolled": true
   },
   "outputs": [
    {
     "data": {
      "text/html": [
       "<div>\n",
       "<style scoped>\n",
       "    .dataframe tbody tr th:only-of-type {\n",
       "        vertical-align: middle;\n",
       "    }\n",
       "\n",
       "    .dataframe tbody tr th {\n",
       "        vertical-align: top;\n",
       "    }\n",
       "\n",
       "    .dataframe thead th {\n",
       "        text-align: right;\n",
       "    }\n",
       "</style>\n",
       "<table border=\"1\" class=\"dataframe\">\n",
       "  <thead>\n",
       "    <tr style=\"text-align: right;\">\n",
       "      <th></th>\n",
       "      <th>fiscal_year</th>\n",
       "      <th>fiscal_period</th>\n",
       "      <th>hh_id</th>\n",
       "      <th>gl_shelf</th>\n",
       "      <th>net_sales</th>\n",
       "      <th>acct_id</th>\n",
       "      <th>person_return_visits</th>\n",
       "      <th>hh_engaged</th>\n",
       "      <th>is_digital</th>\n",
       "      <th>_merge</th>\n",
       "    </tr>\n",
       "  </thead>\n",
       "  <tbody>\n",
       "    <tr>\n",
       "      <td>0</td>\n",
       "      <td>2018</td>\n",
       "      <td>201801</td>\n",
       "      <td>AH_1001007</td>\n",
       "      <td>APPL</td>\n",
       "      <td>0.00</td>\n",
       "      <td>1001007</td>\n",
       "      <td>-1.0</td>\n",
       "      <td>False</td>\n",
       "      <td>False</td>\n",
       "      <td>both</td>\n",
       "    </tr>\n",
       "    <tr>\n",
       "      <td>1</td>\n",
       "      <td>2018</td>\n",
       "      <td>201801</td>\n",
       "      <td>AH_1001007</td>\n",
       "      <td>FERT</td>\n",
       "      <td>8482.56</td>\n",
       "      <td>1001007</td>\n",
       "      <td>-1.0</td>\n",
       "      <td>False</td>\n",
       "      <td>False</td>\n",
       "      <td>both</td>\n",
       "    </tr>\n",
       "    <tr>\n",
       "      <td>2</td>\n",
       "      <td>2018</td>\n",
       "      <td>201801</td>\n",
       "      <td>AH_1001014</td>\n",
       "      <td>APPL</td>\n",
       "      <td>78.30</td>\n",
       "      <td>1001014</td>\n",
       "      <td>26.0</td>\n",
       "      <td>True</td>\n",
       "      <td>True</td>\n",
       "      <td>both</td>\n",
       "    </tr>\n",
       "    <tr>\n",
       "      <td>3</td>\n",
       "      <td>2018</td>\n",
       "      <td>201801</td>\n",
       "      <td>AH_1001014</td>\n",
       "      <td>CHEM</td>\n",
       "      <td>1241.17</td>\n",
       "      <td>1001014</td>\n",
       "      <td>26.0</td>\n",
       "      <td>True</td>\n",
       "      <td>True</td>\n",
       "      <td>both</td>\n",
       "    </tr>\n",
       "    <tr>\n",
       "      <td>4</td>\n",
       "      <td>2018</td>\n",
       "      <td>201801</td>\n",
       "      <td>AH_1001057</td>\n",
       "      <td>CHEM</td>\n",
       "      <td>658.10</td>\n",
       "      <td>1001057</td>\n",
       "      <td>13.0</td>\n",
       "      <td>True</td>\n",
       "      <td>True</td>\n",
       "      <td>both</td>\n",
       "    </tr>\n",
       "  </tbody>\n",
       "</table>\n",
       "</div>"
      ],
      "text/plain": [
       "   fiscal_year  fiscal_period       hh_id gl_shelf  net_sales  acct_id  \\\n",
       "0         2018         201801  AH_1001007     APPL       0.00  1001007   \n",
       "1         2018         201801  AH_1001007     FERT    8482.56  1001007   \n",
       "2         2018         201801  AH_1001014     APPL      78.30  1001014   \n",
       "3         2018         201801  AH_1001014     CHEM    1241.17  1001014   \n",
       "4         2018         201801  AH_1001057     CHEM     658.10  1001057   \n",
       "\n",
       "   person_return_visits  hh_engaged  is_digital _merge  \n",
       "0                  -1.0       False       False   both  \n",
       "1                  -1.0       False       False   both  \n",
       "2                  26.0        True        True   both  \n",
       "3                  26.0        True        True   both  \n",
       "4                  13.0        True        True   both  "
      ]
     },
     "execution_count": 24,
     "metadata": {},
     "output_type": "execute_result"
    }
   ],
   "source": [
    "# eng_sales_pkl = \"/users/kmatson/documents/nutrien-digital/sales_hh_acct_fp_engaged_df.pickle\"\n",
    "eng_sales_pkl = \"C:\\\\Users\\\\kmatson.AGRIUM\\\\iCloudDrive\\\\Documents\\\\nutrien-digital\\\\sales_hh_fp_engaged_df.pickle\"\n",
    "\n",
    "eng_sales_df = un_pickle(eng_sales_pkl)\n",
    "eng_sales_df.head()"
   ]
  },
  {
   "cell_type": "markdown",
   "metadata": {},
   "source": [
    "### New Grower Revenue, Digitally Engaged"
   ]
  },
  {
   "cell_type": "code",
   "execution_count": 25,
   "metadata": {
    "scrolled": true
   },
   "outputs": [
    {
     "name": "stdout",
     "output_type": "stream",
     "text": [
      "New Grower Revenue, Digitally Engaged: $50,167,301.74\n",
      "New Grower Revenue, Non-Digitally Engaged: $621,369,606.59\n"
     ]
    }
   ],
   "source": [
    "print('New Grower Revenue, Digitally Engaged: ${:,.2f}'.format(new_grower_revenue(eng_sales_df)))\n",
    "print('New Grower Revenue, Non-Digitally Engaged: ${:,.2f}'.format(new_grower_revenue(eng_sales_df, False)))"
   ]
  },
  {
   "cell_type": "markdown",
   "metadata": {},
   "source": [
    "### Revenue Benefit from Digital Customer Retention"
   ]
  },
  {
   "cell_type": "code",
   "execution_count": 26,
   "metadata": {},
   "outputs": [
    {
     "name": "stdout",
     "output_type": "stream",
     "text": [
      "Revenue benefit of digital customer retention 2019: $677,788,873.83\n"
     ]
    }
   ],
   "source": [
    "print('Revenue benefit of digital customer retention 2019: ${:,.2f}'\\\n",
    "      .format(benefit_digital_customer_retention(eng_sales_df, 2019)))"
   ]
  },
  {
   "cell_type": "markdown",
   "metadata": {},
   "source": [
    "### Increased Customer Retention from Digital"
   ]
  },
  {
   "cell_type": "code",
   "execution_count": 27,
   "metadata": {},
   "outputs": [
    {
     "name": "stdout",
     "output_type": "stream",
     "text": [
      "Increased Customer Retention from Digital: 20.01%\n"
     ]
    }
   ],
   "source": [
    "print('Increased Customer Retention from Digital: {:.2f}%'.format(100*inc_customer_retention(eng_sales_df, for_year=2019)))"
   ]
  },
  {
   "cell_type": "markdown",
   "metadata": {},
   "source": [
    "### Increased Share of Wallet from Digital Engagement"
   ]
  },
  {
   "cell_type": "code",
   "execution_count": 28,
   "metadata": {},
   "outputs": [
    {
     "name": "stdout",
     "output_type": "stream",
     "text": [
      "Increased share of wallet from Digital Engagement: $143,793.61\n"
     ]
    }
   ],
   "source": [
    "print('Increased share of wallet from Digital Engagement: ${:,.2f}'.format(inc_share_of_wallet(eng_sales_df)))"
   ]
  },
  {
   "cell_type": "markdown",
   "metadata": {},
   "source": [
    "### Agronomic Services Revenue"
   ]
  },
  {
   "cell_type": "code",
   "execution_count": 32,
   "metadata": {},
   "outputs": [
    {
     "name": "stdout",
     "output_type": "stream",
     "text": [
      "ag services revenue 2019 \t\t\t$60,400,596.78\n",
      "ag services revenue 2019 Non-Engaged \t\t$172,387,706.24\n",
      "ag services revenue 2019 Engaged v. Non-Engaged $-111,987,109.46\n"
     ]
    }
   ],
   "source": [
    "ag_svc_rev_eng_2019 = agronomic_services_revenue(eng_sales_df, engaged=True)\n",
    "ag_svc_rev_noneng_2019 = agronomic_services_revenue(eng_sales_df, engaged=False)\n",
    "print(\"ag services revenue 2019 \\t\\t\\t${:,.2f}\".format(ag_svc_rev_eng_2019))\n",
    "print(\"ag services revenue 2019 Non-Engaged \\t\\t${:,.2f}\".format(ag_svc_rev_noneng_2019))\n",
    "print(\"ag services revenue 2019 Engaged v. Non-Engaged ${:,.2f}\".format(ag_svc_rev_eng_2019 - ag_svc_rev_noneng_2019))"
   ]
  },
  {
   "cell_type": "code",
   "execution_count": 33,
   "metadata": {},
   "outputs": [
    {
     "name": "stdout",
     "output_type": "stream",
     "text": [
      "ag services revenue 2018 \t\t\t$92,185,316.24\n",
      "ag services revenue 2018 Non-Engaged \t\t$232,732,890.96\n",
      "ag services revenue 2018 Engaged v. Non-Engaged $-140,547,574.72\n"
     ]
    }
   ],
   "source": [
    "ag_svc_rev_eng_2018 = agronomic_services_revenue(eng_sales_df, 2018, True)\n",
    "ag_svc_rev_noneng_2018 = agronomic_services_revenue(eng_sales_df, 2018, False)\n",
    "print(\"ag services revenue 2018 \\t\\t\\t${:,.2f}\".format(ag_svc_rev_eng_2018))\n",
    "print(\"ag services revenue 2018 Non-Engaged \\t\\t${:,.2f}\".format(ag_svc_rev_noneng_2018))\n",
    "print(\"ag services revenue 2018 Engaged v. Non-Engaged ${:,.2f}\".format(ag_svc_rev_eng_2018 - ag_svc_rev_noneng_2018))"
   ]
  },
  {
   "cell_type": "markdown",
   "metadata": {},
   "source": [
    "### Explore Retention\n",
    "\n",
    "- Retention: Count(Households with 2018 purchases who ALSO have 2019 purchases) / Count(Households with 2018 purchases)\n",
    "- ==> Count(Households with prior year purchases who ALSO have current year purchases) / Count(Households with prior year purchases)\n",
    "  - Purchases for current year are YTD based on records to-date in the data set \n",
    "  - Retention is expected to __increase__ throughout the current year as prior year accounts for a household are activated (bought against) in the current year"
   ]
  },
  {
   "cell_type": "code",
   "execution_count": 34,
   "metadata": {},
   "outputs": [
    {
     "name": "stdout",
     "output_type": "stream",
     "text": [
      "2018 to 2019 Nutrien Customer Retention for Digitally Engaged Customers 87.8%\n",
      "2018 to 2019 Nutrien Customer Retention for Non-Engaged Customers       67.8%\n"
     ]
    }
   ],
   "source": [
    "# explore retention results\n",
    "org_retention_engaged = get_org_retention(eng_sales_df, for_year=2019, engaged=True, verbose=False)\n",
    "org_retention_non_engaged = get_org_retention(eng_sales_df, for_year=2019, engaged=False, verbose=False)\n",
    "print('2018 to 2019 Nutrien Customer Retention for Digitally Engaged Customers {:.1f}%'.format(100*org_retention_engaged))\n",
    "print('2018 to 2019 Nutrien Customer Retention for Non-Engaged Customers       {:.1f}%'.format(100*org_retention_non_engaged))"
   ]
  },
  {
   "cell_type": "markdown",
   "metadata": {},
   "source": [
    "### Churn\n",
    "\n",
    "- Churn: Count(Households with prior yr purchases but no current yr purchases) / Count(Households with prior year purchases)\n",
    "  - Purchases for current year are YTD based on records to-date in the data set \n",
    "  - Churn is expected to __decrease__ over the current year as prior year accounts get activated in the current year\n",
    "  - Churn of engaged customers is expected to be __less than__ churn from non-engaged customers"
   ]
  },
  {
   "cell_type": "code",
   "execution_count": 35,
   "metadata": {},
   "outputs": [
    {
     "name": "stdout",
     "output_type": "stream",
     "text": [
      "2018 to 2019 Nutrien Customer Churn                                 30.5%\n",
      "2018 to 2019 Nutrien Customer Churn for Digitally Engaged Customers 12.2%\n",
      "2018 to 2019 Nutrien Customer Churn for Non-Engaged Customers       32.2%\n"
     ]
    }
   ],
   "source": [
    "org_churn = get_org_churn(eng_sales_df)\n",
    "org_churn_engaged = get_org_churn(eng_sales_df.query('hh_engaged==True'))\n",
    "org_churn_non_engaged = get_org_churn(eng_sales_df.query('hh_engaged==False'))\n",
    "print('2018 to 2019 Nutrien Customer Churn                                 {:.1f}%'.format(100*org_churn))\n",
    "print('2018 to 2019 Nutrien Customer Churn for Digitally Engaged Customers {:.1f}%'.format(100*org_churn_engaged))\n",
    "print('2018 to 2019 Nutrien Customer Churn for Non-Engaged Customers       {:.1f}%'.format(100*org_churn_non_engaged))"
   ]
  },
  {
   "cell_type": "markdown",
   "metadata": {},
   "source": [
    "### Churn by Revenue Category"
   ]
  },
  {
   "cell_type": "code",
   "execution_count": null,
   "metadata": {},
   "outputs": [],
   "source": [
    "# churn calculations for revenue groupings\n",
    "# create df for annual sum by account for 2018\n",
    "# assign the category attribute to each account \n",
    "# extract the revenue category for each acct/hh_id and merge with the sales df \n",
    "# calculate churn for each category"
   ]
  },
  {
   "cell_type": "code",
   "execution_count": 50,
   "metadata": {
    "scrolled": true
   },
   "outputs": [],
   "source": [
    "#cat_sales_pkl = \"C:\\\\Users\\\\kmatson.AGRIUM\\\\iCloudDrive\\\\Documents\\\\nutrien-digital\\\\sales_hh_fy_rev_summary_df.pickle\"\n",
    "# cat_sales_df = un_pickle(cat_sales_pkl)\n",
    "# cat_sales_df.head()"
   ]
  },
  {
   "cell_type": "code",
   "execution_count": 65,
   "metadata": {
    "scrolled": true
   },
   "outputs": [
    {
     "data": {
      "text/html": [
       "<div>\n",
       "<style scoped>\n",
       "    .dataframe tbody tr th:only-of-type {\n",
       "        vertical-align: middle;\n",
       "    }\n",
       "\n",
       "    .dataframe tbody tr th {\n",
       "        vertical-align: top;\n",
       "    }\n",
       "\n",
       "    .dataframe thead tr th {\n",
       "        text-align: left;\n",
       "    }\n",
       "\n",
       "    .dataframe thead tr:last-of-type th {\n",
       "        text-align: right;\n",
       "    }\n",
       "</style>\n",
       "<table border=\"1\" class=\"dataframe\">\n",
       "  <thead>\n",
       "    <tr>\n",
       "      <th></th>\n",
       "      <th>count</th>\n",
       "      <th>sum</th>\n",
       "      <th>mean</th>\n",
       "      <th>median</th>\n",
       "    </tr>\n",
       "    <tr>\n",
       "      <th></th>\n",
       "      <th>net_sales</th>\n",
       "      <th>net_sales</th>\n",
       "      <th>net_sales</th>\n",
       "      <th>net_sales</th>\n",
       "    </tr>\n",
       "    <tr>\n",
       "      <th>rev_bins</th>\n",
       "      <th></th>\n",
       "      <th></th>\n",
       "      <th></th>\n",
       "      <th></th>\n",
       "    </tr>\n",
       "  </thead>\n",
       "  <tbody>\n",
       "    <tr>\n",
       "      <td>&lt; $0</td>\n",
       "      <td>2754</td>\n",
       "      <td>$-3,790,765</td>\n",
       "      <td>$-1,376</td>\n",
       "      <td>$0</td>\n",
       "    </tr>\n",
       "    <tr>\n",
       "      <td>$0-1K</td>\n",
       "      <td>51567</td>\n",
       "      <td>$18,379,946</td>\n",
       "      <td>$356</td>\n",
       "      <td>$280</td>\n",
       "    </tr>\n",
       "    <tr>\n",
       "      <td>$1-5K</td>\n",
       "      <td>45049</td>\n",
       "      <td>$114,825,936</td>\n",
       "      <td>$2,549</td>\n",
       "      <td>$2,325</td>\n",
       "    </tr>\n",
       "    <tr>\n",
       "      <td>$5-30K</td>\n",
       "      <td>55177</td>\n",
       "      <td>$765,666,529</td>\n",
       "      <td>$13,877</td>\n",
       "      <td>$12,197</td>\n",
       "    </tr>\n",
       "    <tr>\n",
       "      <td>$30-100K</td>\n",
       "      <td>30806</td>\n",
       "      <td>$1,730,882,356</td>\n",
       "      <td>$56,187</td>\n",
       "      <td>$52,106</td>\n",
       "    </tr>\n",
       "    <tr>\n",
       "      <td>&gt; $100K</td>\n",
       "      <td>21727</td>\n",
       "      <td>$7,295,646,941</td>\n",
       "      <td>$335,787</td>\n",
       "      <td>$187,714</td>\n",
       "    </tr>\n",
       "  </tbody>\n",
       "</table>\n",
       "</div>"
      ],
      "text/plain": [
       "             count            sum      mean    median\n",
       "         net_sales      net_sales net_sales net_sales\n",
       "rev_bins                                             \n",
       "< $0          2754    $-3,790,765   $-1,376        $0\n",
       "$0-1K        51567    $18,379,946      $356      $280\n",
       "$1-5K        45049   $114,825,936    $2,549    $2,325\n",
       "$5-30K       55177   $765,666,529   $13,877   $12,197\n",
       "$30-100K     30806 $1,730,882,356   $56,187   $52,106\n",
       "> $100K      21727 $7,295,646,941  $335,787  $187,714"
      ]
     },
     "execution_count": 65,
     "metadata": {},
     "output_type": "execute_result"
    }
   ],
   "source": [
    "# get the categories from the 2018 data\n",
    "eng_sales18_df = pd.DataFrame(eng_sales_df.query('fiscal_year == 2018').\\\n",
    "                                        pivot_table(index=['fiscal_year','hh_id','is_digital','hh_engaged'], \\\n",
    "                                        values=['net_sales'], aggfunc='sum').to_records())\n",
    "\n",
    "eng_sales18_df['rev_bins'] = pd.cut(eng_sales18_df['net_sales'], \\\n",
    "                                              bins=[eng_sales18_df['net_sales'].min(),\\\n",
    "                                                    0,1000.,5000.,30000.,100000.,eng_sales18_df['net_sales'].max()],\\\n",
    "                                              labels=['< $0','$0-1K','$1-5K','$5-30K','$30-100K','> $100K'])\n",
    "pd.options.display.float_format = '${:,.0f}'.format\n",
    "eng_sales18_df.pivot_table(index=['rev_bins'], \\\n",
    "                                        values=['net_sales'], aggfunc=['count','sum','mean','median'])"
   ]
  },
  {
   "cell_type": "code",
   "execution_count": 66,
   "metadata": {},
   "outputs": [
    {
     "name": "stdout",
     "output_type": "stream",
     "text": [
      "<class 'pandas.core.frame.DataFrame'>\n",
      "RangeIndex: 207081 entries, 0 to 207080\n",
      "Data columns (total 6 columns):\n",
      "fiscal_year    207081 non-null int32\n",
      "hh_id          207081 non-null object\n",
      "is_digital     207081 non-null bool\n",
      "hh_engaged     207081 non-null bool\n",
      "net_sales      207081 non-null float64\n",
      "rev_bins       207080 non-null category\n",
      "dtypes: bool(2), category(1), float64(1), int32(1), object(1)\n",
      "memory usage: 4.5+ MB\n"
     ]
    }
   ],
   "source": [
    "eng_sales18_df.info()"
   ]
  },
  {
   "cell_type": "code",
   "execution_count": 69,
   "metadata": {
    "scrolled": true
   },
   "outputs": [
    {
     "data": {
      "text/html": [
       "<div>\n",
       "<style scoped>\n",
       "    .dataframe tbody tr th:only-of-type {\n",
       "        vertical-align: middle;\n",
       "    }\n",
       "\n",
       "    .dataframe tbody tr th {\n",
       "        vertical-align: top;\n",
       "    }\n",
       "\n",
       "    .dataframe thead th {\n",
       "        text-align: right;\n",
       "    }\n",
       "</style>\n",
       "<table border=\"1\" class=\"dataframe\">\n",
       "  <thead>\n",
       "    <tr style=\"text-align: right;\">\n",
       "      <th></th>\n",
       "      <th>hh_id</th>\n",
       "      <th>rev_bins</th>\n",
       "      <th>fiscal_year</th>\n",
       "      <th>hh_engaged</th>\n",
       "      <th>is_digital</th>\n",
       "      <th>net_sales</th>\n",
       "    </tr>\n",
       "  </thead>\n",
       "  <tbody>\n",
       "    <tr>\n",
       "      <td>0</td>\n",
       "      <td>AH_1001004</td>\n",
       "      <td>$5-30K</td>\n",
       "      <td>2018</td>\n",
       "      <td>False</td>\n",
       "      <td>True</td>\n",
       "      <td>$27,948</td>\n",
       "    </tr>\n",
       "    <tr>\n",
       "      <td>1</td>\n",
       "      <td>AH_1001007</td>\n",
       "      <td>&gt; $100K</td>\n",
       "      <td>2018</td>\n",
       "      <td>False</td>\n",
       "      <td>False</td>\n",
       "      <td>$130,419</td>\n",
       "    </tr>\n",
       "    <tr>\n",
       "      <td>2</td>\n",
       "      <td>AH_1001008</td>\n",
       "      <td>$5-30K</td>\n",
       "      <td>2018</td>\n",
       "      <td>True</td>\n",
       "      <td>True</td>\n",
       "      <td>$8,457</td>\n",
       "    </tr>\n",
       "    <tr>\n",
       "      <td>3</td>\n",
       "      <td>AH_1001013</td>\n",
       "      <td>$1-5K</td>\n",
       "      <td>2018</td>\n",
       "      <td>False</td>\n",
       "      <td>False</td>\n",
       "      <td>$2,462</td>\n",
       "    </tr>\n",
       "    <tr>\n",
       "      <td>4</td>\n",
       "      <td>AH_1001014</td>\n",
       "      <td>&gt; $100K</td>\n",
       "      <td>2018</td>\n",
       "      <td>True</td>\n",
       "      <td>True</td>\n",
       "      <td>$127,972</td>\n",
       "    </tr>\n",
       "  </tbody>\n",
       "</table>\n",
       "</div>"
      ],
      "text/plain": [
       "        hh_id rev_bins  fiscal_year hh_engaged is_digital  net_sales\n",
       "0  AH_1001004   $5-30K         2018      False       True    $27,948\n",
       "1  AH_1001007  > $100K         2018      False      False   $130,419\n",
       "2  AH_1001008   $5-30K         2018       True       True     $8,457\n",
       "3  AH_1001013    $1-5K         2018      False      False     $2,462\n",
       "4  AH_1001014  > $100K         2018       True       True   $127,972"
      ]
     },
     "execution_count": 69,
     "metadata": {},
     "output_type": "execute_result"
    }
   ],
   "source": [
    "# create a category LUT for accounts\n",
    "eng_sales18_cats_df = pd.DataFrame(eng_sales18_df.pivot_table(index=['hh_id','rev_bins']).to_records())\n",
    "eng_sales18_cats_df.head()"
   ]
  },
  {
   "cell_type": "code",
   "execution_count": 71,
   "metadata": {
    "scrolled": true
   },
   "outputs": [
    {
     "data": {
      "text/html": [
       "<div>\n",
       "<style scoped>\n",
       "    .dataframe tbody tr th:only-of-type {\n",
       "        vertical-align: middle;\n",
       "    }\n",
       "\n",
       "    .dataframe tbody tr th {\n",
       "        vertical-align: top;\n",
       "    }\n",
       "\n",
       "    .dataframe thead th {\n",
       "        text-align: right;\n",
       "    }\n",
       "</style>\n",
       "<table border=\"1\" class=\"dataframe\">\n",
       "  <thead>\n",
       "    <tr style=\"text-align: right;\">\n",
       "      <th></th>\n",
       "      <th>hh_id</th>\n",
       "      <th>rev_bins</th>\n",
       "    </tr>\n",
       "  </thead>\n",
       "  <tbody>\n",
       "    <tr>\n",
       "      <td>0</td>\n",
       "      <td>AH_1001004</td>\n",
       "      <td>$5-30K</td>\n",
       "    </tr>\n",
       "    <tr>\n",
       "      <td>1</td>\n",
       "      <td>AH_1001007</td>\n",
       "      <td>&gt; $100K</td>\n",
       "    </tr>\n",
       "    <tr>\n",
       "      <td>2</td>\n",
       "      <td>AH_1001008</td>\n",
       "      <td>$5-30K</td>\n",
       "    </tr>\n",
       "    <tr>\n",
       "      <td>3</td>\n",
       "      <td>AH_1001013</td>\n",
       "      <td>$1-5K</td>\n",
       "    </tr>\n",
       "    <tr>\n",
       "      <td>4</td>\n",
       "      <td>AH_1001014</td>\n",
       "      <td>&gt; $100K</td>\n",
       "    </tr>\n",
       "  </tbody>\n",
       "</table>\n",
       "</div>"
      ],
      "text/plain": [
       "        hh_id rev_bins\n",
       "0  AH_1001004   $5-30K\n",
       "1  AH_1001007  > $100K\n",
       "2  AH_1001008   $5-30K\n",
       "3  AH_1001013    $1-5K\n",
       "4  AH_1001014  > $100K"
      ]
     },
     "execution_count": 71,
     "metadata": {},
     "output_type": "execute_result"
    }
   ],
   "source": [
    "eng_sales18_cats_df = eng_sales18_cats_df.drop(['fiscal_year','hh_engaged','is_digital','net_sales'], axis=1).copy()\n",
    "eng_sales18_cats_df.head()"
   ]
  },
  {
   "cell_type": "code",
   "execution_count": 72,
   "metadata": {},
   "outputs": [],
   "source": [
    "cat_sales_df = eng_sales_df.merge(eng_sales18_cats_df, how='left', on='hh_id')"
   ]
  },
  {
   "cell_type": "code",
   "execution_count": 82,
   "metadata": {},
   "outputs": [],
   "source": [
    "# for each category get the churn\n",
    "def get_churn_by_cat(df):\n",
    "    org_churn = get_org_churn(df)\n",
    "    org_churn_engaged = get_org_churn(df.query('hh_engaged==True'))\n",
    "    org_churn_non_engaged = get_org_churn(df.query('hh_engaged==False'))\n",
    "    print('{:.1f}% {:.1f}% {:.1f}%'.format(100*org_churn, 100*org_churn_engaged, 100*org_churn_non_engaged))"
   ]
  },
  {
   "cell_type": "code",
   "execution_count": 83,
   "metadata": {},
   "outputs": [
    {
     "name": "stdout",
     "output_type": "stream",
     "text": [
      "Overall Digitally-Engaged Non-Engaged\n",
      "$0-1K\n",
      "53.5% 29.2% 53.8%\n",
      "$1-5K\n",
      "33.9% 21.3% 34.2%\n",
      "$30-100K\n",
      "14.9% 13.0% 15.2%\n",
      "$5-30K\n",
      "22.7% 16.4% 23.2%\n",
      "< $0\n",
      "72.9% 47.8% 74.5%\n",
      "> $100K\n",
      "7.7% 6.1% 8.5%\n"
     ]
    }
   ],
   "source": [
    "print('Overall Digitally-Engaged Non-Engaged')\n",
    "for name, group in cat_sales_df.groupby('rev_bins'): \n",
    "    # print the name of the regiment\n",
    "    print(name)\n",
    "    # print the data of that regiment\n",
    "    get_churn_by_cat(group)"
   ]
  },
  {
   "cell_type": "code",
   "execution_count": 84,
   "metadata": {},
   "outputs": [
    {
     "name": "stdout",
     "output_type": "stream",
     "text": [
      "30.5% 12.2% 32.2%\n"
     ]
    }
   ],
   "source": [
    "#overall\n",
    "get_churn_by_cat(cat_sales_df)"
   ]
  },
  {
   "cell_type": "markdown",
   "metadata": {},
   "source": [
    "#### New Customer:\n",
    "- New Customer: (Households with 2019 account purchases but no 2018 account purchases)\n",
    "  - Purchases for current year are YTD based on records to-date in the data set \n",
    "  - The new cusotmer count is expected to __increase__ over the current year as new households are acquired in the current year\n"
   ]
  },
  {
   "cell_type": "markdown",
   "metadata": {},
   "source": [
    "#### Test Data\n"
   ]
  },
  {
   "cell_type": "code",
   "execution_count": 36,
   "metadata": {},
   "outputs": [
    {
     "data": {
      "text/html": [
       "<div>\n",
       "<style scoped>\n",
       "    .dataframe tbody tr th:only-of-type {\n",
       "        vertical-align: middle;\n",
       "    }\n",
       "\n",
       "    .dataframe tbody tr th {\n",
       "        vertical-align: top;\n",
       "    }\n",
       "\n",
       "    .dataframe thead th {\n",
       "        text-align: right;\n",
       "    }\n",
       "</style>\n",
       "<table border=\"1\" class=\"dataframe\">\n",
       "  <thead>\n",
       "    <tr style=\"text-align: right;\">\n",
       "      <th></th>\n",
       "      <th>hh_id</th>\n",
       "      <th>hh_engaged</th>\n",
       "      <th>net_sales</th>\n",
       "      <th>fiscal_year</th>\n",
       "    </tr>\n",
       "  </thead>\n",
       "  <tbody>\n",
       "    <tr>\n",
       "      <td>0</td>\n",
       "      <td>A</td>\n",
       "      <td>False</td>\n",
       "      <td>5</td>\n",
       "      <td>2018</td>\n",
       "    </tr>\n",
       "    <tr>\n",
       "      <td>1</td>\n",
       "      <td>B</td>\n",
       "      <td>True</td>\n",
       "      <td>10</td>\n",
       "      <td>2018</td>\n",
       "    </tr>\n",
       "    <tr>\n",
       "      <td>2</td>\n",
       "      <td>B</td>\n",
       "      <td>True</td>\n",
       "      <td>2</td>\n",
       "      <td>2018</td>\n",
       "    </tr>\n",
       "    <tr>\n",
       "      <td>3</td>\n",
       "      <td>C</td>\n",
       "      <td>True</td>\n",
       "      <td>5</td>\n",
       "      <td>2018</td>\n",
       "    </tr>\n",
       "    <tr>\n",
       "      <td>4</td>\n",
       "      <td>D</td>\n",
       "      <td>False</td>\n",
       "      <td>25</td>\n",
       "      <td>2018</td>\n",
       "    </tr>\n",
       "    <tr>\n",
       "      <td>5</td>\n",
       "      <td>E</td>\n",
       "      <td>True</td>\n",
       "      <td>1</td>\n",
       "      <td>2019</td>\n",
       "    </tr>\n",
       "    <tr>\n",
       "      <td>6</td>\n",
       "      <td>B</td>\n",
       "      <td>True</td>\n",
       "      <td>5</td>\n",
       "      <td>2019</td>\n",
       "    </tr>\n",
       "    <tr>\n",
       "      <td>7</td>\n",
       "      <td>C</td>\n",
       "      <td>False</td>\n",
       "      <td>2</td>\n",
       "      <td>2019</td>\n",
       "    </tr>\n",
       "  </tbody>\n",
       "</table>\n",
       "</div>"
      ],
      "text/plain": [
       "  hh_id  hh_engaged  net_sales  fiscal_year\n",
       "0     A       False          5         2018\n",
       "1     B        True         10         2018\n",
       "2     B        True          2         2018\n",
       "3     C        True          5         2018\n",
       "4     D       False         25         2018\n",
       "5     E        True          1         2019\n",
       "6     B        True          5         2019\n",
       "7     C       False          2         2019"
      ]
     },
     "execution_count": 36,
     "metadata": {},
     "output_type": "execute_result"
    }
   ],
   "source": [
    "# simple test data\n",
    "# todo: add NaNs to see where fails\n",
    "test_data2 = {'hh_id': ['A', 'B', 'B', 'C', 'D', 'E', 'B', 'C'], \n",
    "        'hh_engaged': [False, True, True, True, False, True, True, False], \n",
    "        'net_sales': [5, 10, 2, 5, 25, 1, 5, 2],\n",
    "        'fiscal_year':[2018, 2018, 2018, 2018, 2018, 2019, 2019, 2019]}\n",
    "test_df2 = pd.DataFrame(test_data2)\n",
    "test_df2"
   ]
  },
  {
   "cell_type": "code",
   "execution_count": 37,
   "metadata": {},
   "outputs": [
    {
     "name": "stdout",
     "output_type": "stream",
     "text": [
      "2\n",
      "1\n",
      "True\n",
      "True\n",
      "True\n",
      "True\n",
      "15.0\n",
      "8.5\n"
     ]
    }
   ],
   "source": [
    "print(get_count_engaged_customers(test_df2))\n",
    "print(get_count_non_engaged_customers(test_df2))\n",
    "\n",
    "print(get_avg_revenue_non_engaged(test_df2, for_year=2018) == (5+25)/2)\n",
    "print(get_avg_revenue_engaged(test_df2, for_year=2018) == (10+2+5)/2)\n",
    "\n",
    "print(get_avg_revenue_non_engaged(test_df2, for_year=2019) == (2)/1)\n",
    "print(get_avg_revenue_engaged(test_df2, for_year=2019) == (1+5)/2)\n",
    "\n",
    "print((5+25)/2)\n",
    "print((10+2+5)/2)"
   ]
  },
  {
   "cell_type": "code",
   "execution_count": null,
   "metadata": {},
   "outputs": [],
   "source": []
  }
 ],
 "metadata": {
  "kernelspec": {
   "display_name": "Python 3",
   "language": "python",
   "name": "python3"
  },
  "language_info": {
   "codemirror_mode": {
    "name": "ipython",
    "version": 3
   },
   "file_extension": ".py",
   "mimetype": "text/x-python",
   "name": "python",
   "nbconvert_exporter": "python",
   "pygments_lexer": "ipython3",
   "version": "3.7.4"
  }
 },
 "nbformat": 4,
 "nbformat_minor": 2
}
